{
 "cells": [
  {
   "cell_type": "markdown",
   "metadata": {},
   "source": [
    "## While loops\n",
    "- iterates over the iteratable \n",
    "- iteration is based on condition\n",
    "- While loop checks for condition to be satisified to break the loop"
   ]
  },
  {
   "cell_type": "code",
   "execution_count": null,
   "metadata": {},
   "outputs": [],
   "source": [
    "# Example 1\n",
    "a=10\n",
    "\n",
    "while a >= 1: #condition\n",
    "    #body of while loop\n",
    "    print(a)\n",
    "    a-=1"
   ]
  },
  {
   "cell_type": "code",
   "execution_count": null,
   "metadata": {},
   "outputs": [],
   "source": [
    "# Example 2\n",
    "# Sum the number between 1-10\n",
    "\n",
    "sum = 0\n",
    "n = 1\n",
    "t =10\n",
    "\n",
    "while n<=t:\n",
    "    sum =sum+n\n",
    "    n=n+1\n",
    "\n",
    "print(sum)"
   ]
  },
  {
   "cell_type": "code",
   "execution_count": null,
   "metadata": {},
   "outputs": [],
   "source": [
    "# Example 3\n",
    "# Print Maths table of 19\n",
    "\n",
    "n = 1\n",
    "while n <= 10:\n",
    "    prod = 19 * n\n",
    "    print(f'19 x {n} = {prod}')\n",
    "    n+=1"
   ]
  },
  {
   "cell_type": "code",
   "execution_count": null,
   "metadata": {},
   "outputs": [],
   "source": [
    "# Example 4\n",
    "# Break time\n",
    "\n",
    "import time\n",
    "n=0\n",
    "\n",
    "while n < 15:\n",
    "    n+=1\n",
    "    print(n)\n",
    "    time.sleep(1)\n",
    "\n",
    "print('Break is over')"
   ]
  },
  {
   "cell_type": "code",
   "execution_count": null,
   "metadata": {},
   "outputs": [],
   "source": [
    "# Example 5\n",
    "# Using Break and Continue\n",
    "\n",
    "n = 1\n",
    "\n",
    "while True:\n",
    "    if n == 5:\n",
    "        print(n, '- has reached half way')\n",
    "        n+=1\n",
    "        continue # 'continue is control flow statement which stops the current iteration and jumps to the next iteration\n",
    "    elif n >10:\n",
    "        print(n, '- Crossed the limits')\n",
    "        break  # 'break' is control flow statement which stops the loop prematurely. Used to interrupt the execution of loop\n",
    "    else:\n",
    "        print(n)\n",
    "        n+=1"
   ]
  },
  {
   "cell_type": "code",
   "execution_count": null,
   "metadata": {},
   "outputs": [],
   "source": [
    "# Example 6\n",
    "# Check username and password for user. Block the user after 3attempts\n",
    "\n",
    "db_user = 'validuser'\n",
    "db_pass = '12345'\n",
    "count = 1\n",
    "\n",
    "while count <= 3:\n",
    "    # print(count)\n",
    "    user = input('Enter user name')\n",
    "    pwd = input('Enter password')\n",
    "    # print(user)\n",
    "    if db_user == user and db_pass==pwd:\n",
    "        print('logged in successfully')\n",
    "        break\n",
    "    else:\n",
    "        print('Invalid username and password')\n",
    "        count += 1\n",
    "\n",
    "print('You have exhausted the attempts')\n",
    "        "
   ]
  },
  {
   "cell_type": "code",
   "execution_count": null,
   "metadata": {},
   "outputs": [],
   "source": [
    "# Example 7\n",
    "# Create a To-d list\n",
    "\n",
    "todoList=[]\n",
    "while True:\n",
    "    todo = input(\"Add something to do list. Press 's' to stop\")\n",
    "    if todo == 's':\n",
    "        break\n",
    "    else:\n",
    "        todoList.append(todo)\n",
    "\n",
    "print('Todo list is:')\n",
    "print(todoList)"
   ]
  },
  {
   "cell_type": "code",
   "execution_count": null,
   "metadata": {},
   "outputs": [],
   "source": []
  }
 ],
 "metadata": {
  "kernelspec": {
   "display_name": "py39",
   "language": "python",
   "name": "python3"
  },
  "language_info": {
   "codemirror_mode": {
    "name": "ipython",
    "version": 3
   },
   "file_extension": ".py",
   "mimetype": "text/x-python",
   "name": "python",
   "nbconvert_exporter": "python",
   "pygments_lexer": "ipython3",
   "version": "3.11.5"
  },
  "orig_nbformat": 4
 },
 "nbformat": 4,
 "nbformat_minor": 2
}
