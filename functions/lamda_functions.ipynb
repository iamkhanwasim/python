{
 "cells": [
  {
   "cell_type": "markdown",
   "metadata": {},
   "source": [
    "Lambda funtions"
   ]
  },
  {
   "cell_type": "markdown",
   "metadata": {},
   "source": [
    "One line functions"
   ]
  },
  {
   "cell_type": "code",
   "execution_count": 1,
   "metadata": {},
   "outputs": [
    {
     "name": "stdout",
     "output_type": "stream",
     "text": [
      "Hello world\n"
     ]
    }
   ],
   "source": [
    "x = lambda: print(\"Hello world\")\n",
    "x()"
   ]
  },
  {
   "cell_type": "code",
   "execution_count": 2,
   "metadata": {},
   "outputs": [
    {
     "data": {
      "text/plain": [
       "3"
      ]
     },
     "execution_count": 2,
     "metadata": {},
     "output_type": "execute_result"
    }
   ],
   "source": [
    "# lambda function for add\n",
    "add = lambda a, b: a+b\n",
    "add(1, 2)"
   ]
  },
  {
   "cell_type": "code",
   "execution_count": 4,
   "metadata": {},
   "outputs": [
    {
     "name": "stdout",
     "output_type": "stream",
     "text": [
      "(1, 4)\n"
     ]
    }
   ],
   "source": [
    "# lambda function which takes the input at gives square\n",
    "a = int(input(\"Enter First number\"))\n",
    "b = int(input(\"Enter second number\"))\n",
    "sqr = lambda a,b: (a**2, b**2)\n",
    "print(sqr(a, b))"
   ]
  },
  {
   "cell_type": "code",
   "execution_count": 5,
   "metadata": {},
   "outputs": [
    {
     "name": "stdout",
     "output_type": "stream",
     "text": [
      "Number is Even\n"
     ]
    }
   ],
   "source": [
    "# lambda function which checks the number is even or odd\n",
    "# first lets create simple function\n",
    "# and try to cnvert into lambda function\n",
    "\n",
    "def evenNum(number):\n",
    "    if number%2 == 0:\n",
    "        print('Number is Even')\n",
    "    else:\n",
    "        print('Number is odd')\n",
    "\n",
    "evenNum(2)"
   ]
  },
  {
   "cell_type": "code",
   "execution_count": 6,
   "metadata": {},
   "outputs": [
    {
     "data": {
      "text/plain": [
       "'Number is Odd'"
      ]
     },
     "execution_count": 6,
     "metadata": {},
     "output_type": "execute_result"
    }
   ],
   "source": [
    "# Now lets convert the above example into lambda\n",
    "\n",
    "evenNumLam = lambda num: 'Number is Even' if num%2 == 0 else 'Number is Odd'\n",
    "evenNumLam(3)"
   ]
  },
  {
   "cell_type": "code",
   "execution_count": 7,
   "metadata": {},
   "outputs": [
    {
     "data": {
      "text/plain": [
       "'Number is Even'"
      ]
     },
     "execution_count": 7,
     "metadata": {},
     "output_type": "execute_result"
    }
   ],
   "source": [
    "evenNumLam(4)"
   ]
  },
  {
   "cell_type": "code",
   "execution_count": null,
   "metadata": {},
   "outputs": [],
   "source": [
    "# Real world example\n",
    "# Sort based on some values\n",
    "\n",
    "product = [\n",
    "    {'name':'product1', 'price': 50},\n",
    "    {'name':'product2', 'price': 20},\n",
    "    {'name':'product3', 'price': 10},\n",
    "    {'name':'product4', 'price': 60},\n",
    "]\n",
    "\n",
    "fas = product.app\n",
    "# key = lambda product: "
   ]
  }
 ],
 "metadata": {
  "kernelspec": {
   "display_name": "py39",
   "language": "python",
   "name": "python3"
  },
  "language_info": {
   "codemirror_mode": {
    "name": "ipython",
    "version": 3
   },
   "file_extension": ".py",
   "mimetype": "text/x-python",
   "name": "python",
   "nbconvert_exporter": "python",
   "pygments_lexer": "ipython3",
   "version": "3.11.5"
  },
  "orig_nbformat": 4
 },
 "nbformat": 4,
 "nbformat_minor": 2
}
