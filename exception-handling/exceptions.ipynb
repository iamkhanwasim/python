{
 "cells": [
  {
   "cell_type": "code",
   "execution_count": 1,
   "metadata": {},
   "outputs": [
    {
     "name": "stdout",
     "output_type": "stream",
     "text": [
      "invalid literal for int() with base 10: 'asdasd'\n"
     ]
    }
   ],
   "source": [
    "# Using try except to handle eception\n",
    "try:\n",
    "    int(input())\n",
    "except Exception as ex: #\n",
    "    print(ex)"
   ]
  },
  {
   "cell_type": "code",
   "execution_count": 8,
   "metadata": {},
   "outputs": [
    {
     "name": "stdout",
     "output_type": "stream",
     "text": [
      "invalid literal for int() with base 10: 'asd'\n"
     ]
    }
   ],
   "source": [
    "# Using specific exception class\n",
    "try:\n",
    "    a = int(input())\n",
    "    x = 5/a\n",
    "except ZeroDivisionError as z:\n",
    "    print(z)\n",
    "except ValueError as t:\n",
    "    print(t)\n"
   ]
  },
  {
   "cell_type": "code",
   "execution_count": 11,
   "metadata": {},
   "outputs": [
    {
     "name": "stdout",
     "output_type": "stream",
     "text": [
      "5.0\n"
     ]
    }
   ],
   "source": [
    "# Nested try-excepts\n",
    "try:\n",
    "    a = int(input())\n",
    "    x = 5/a\n",
    "except ZeroDivisionError as z:\n",
    "    try:\n",
    "        a += 1\n",
    "        x = 5/a\n",
    "        print(x)\n",
    "    except Exception as ex:\n",
    "        print(ex)\n",
    "\n",
    "except ValueError as t:\n",
    "    print(t)\n"
   ]
  },
  {
   "cell_type": "code",
   "execution_count": 13,
   "metadata": {},
   "outputs": [
    {
     "name": "stdout",
     "output_type": "stream",
     "text": [
      "division by zero\n",
      "Finished\n"
     ]
    }
   ],
   "source": [
    "# using finally block\n",
    "try:\n",
    "    a = int(input())\n",
    "    x = 5/a\n",
    "except Exception as ex:\n",
    "    print(ex)\n",
    "finally:\n",
    "    print('Finished')"
   ]
  },
  {
   "cell_type": "code",
   "execution_count": 16,
   "metadata": {},
   "outputs": [
    {
     "name": "stdout",
     "output_type": "stream",
     "text": [
      "1.0\n",
      "No exception\n"
     ]
    }
   ],
   "source": [
    "# using else block\n",
    "try:\n",
    "    a = int(input())\n",
    "    x = 5/a\n",
    "    print(x)\n",
    "except Exception as ex:\n",
    "    print(ex)\n",
    "else:\n",
    "    print('No exception')"
   ]
  },
  {
   "cell_type": "code",
   "execution_count": 41,
   "metadata": {},
   "outputs": [
    {
     "name": "stdout",
     "output_type": "stream",
     "text": [
      "Value should be grater than zero\n"
     ]
    }
   ],
   "source": [
    "# Custom exception by over\n",
    "try:\n",
    "    a = int(input())\n",
    "    if a <= 0:\n",
    "        raise ValueError(\"Value should be grater than zero\")\n",
    "except ValueError as v:\n",
    "    print(v)"
   ]
  },
  {
   "cell_type": "code",
   "execution_count": 46,
   "metadata": {},
   "outputs": [
    {
     "name": "stdout",
     "output_type": "stream",
     "text": [
      "Value should be grater than zero\n"
     ]
    }
   ],
   "source": [
    "# Custom exception by over\n",
    "try:\n",
    "    a = int(input())\n",
    "    if a < 0:\n",
    "        raise ValueError(\"Value should be grater than zero\")\n",
    "    if a == 0:\n",
    "        raise ZeroDivisionError(\"Value should be grater than zero\")\n",
    "\n",
    "except Exception as e:\n",
    "    print(e)"
   ]
  },
  {
   "cell_type": "code",
   "execution_count": null,
   "metadata": {},
   "outputs": [],
   "source": []
  }
 ],
 "metadata": {
  "kernelspec": {
   "display_name": "py39",
   "language": "python",
   "name": "python3"
  },
  "language_info": {
   "codemirror_mode": {
    "name": "ipython",
    "version": 3
   },
   "file_extension": ".py",
   "mimetype": "text/x-python",
   "name": "python",
   "nbconvert_exporter": "python",
   "pygments_lexer": "ipython3",
   "version": "3.11.5"
  },
  "orig_nbformat": 4
 },
 "nbformat": 4,
 "nbformat_minor": 2
}
